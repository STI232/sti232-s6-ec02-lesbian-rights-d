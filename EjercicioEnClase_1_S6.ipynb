{
 "cells": [
  {
   "cell_type": "markdown",
   "metadata": {},
   "source": [
    "## Tarea 1\n",
    "##### Dataset de salarios (Científicos de datos)\n",
    "\n",
    "https://www.kaggle.com/datasets/iamsouravbanerjee/data-science-salaries-2023\n"
   ]
  },
  {
   "cell_type": "code",
   "execution_count": 13,
   "metadata": {
    "scrolled": true
   },
   "outputs": [
    {
     "data": {
      "text/html": [
       "<div>\n",
       "<style scoped>\n",
       "    .dataframe tbody tr th:only-of-type {\n",
       "        vertical-align: middle;\n",
       "    }\n",
       "\n",
       "    .dataframe tbody tr th {\n",
       "        vertical-align: top;\n",
       "    }\n",
       "\n",
       "    .dataframe thead th {\n",
       "        text-align: right;\n",
       "    }\n",
       "</style>\n",
       "<table border=\"1\" class=\"dataframe\">\n",
       "  <thead>\n",
       "    <tr style=\"text-align: right;\">\n",
       "      <th></th>\n",
       "      <th>Job Title</th>\n",
       "      <th>Employment Type</th>\n",
       "      <th>Experience Level</th>\n",
       "      <th>Expertise Level</th>\n",
       "      <th>Salary</th>\n",
       "      <th>Salary Currency</th>\n",
       "      <th>Company Location</th>\n",
       "      <th>Salary in USD</th>\n",
       "      <th>Employee Residence</th>\n",
       "      <th>Company Size</th>\n",
       "      <th>Year</th>\n",
       "    </tr>\n",
       "  </thead>\n",
       "  <tbody>\n",
       "    <tr>\n",
       "      <th>0</th>\n",
       "      <td>Data Engineer</td>\n",
       "      <td>Full-Time</td>\n",
       "      <td>Senior</td>\n",
       "      <td>Expert</td>\n",
       "      <td>210000</td>\n",
       "      <td>United States Dollar</td>\n",
       "      <td>United States</td>\n",
       "      <td>210000</td>\n",
       "      <td>United States</td>\n",
       "      <td>Medium</td>\n",
       "      <td>2023</td>\n",
       "    </tr>\n",
       "    <tr>\n",
       "      <th>1</th>\n",
       "      <td>Data Engineer</td>\n",
       "      <td>Full-Time</td>\n",
       "      <td>Senior</td>\n",
       "      <td>Expert</td>\n",
       "      <td>165000</td>\n",
       "      <td>United States Dollar</td>\n",
       "      <td>United States</td>\n",
       "      <td>165000</td>\n",
       "      <td>United States</td>\n",
       "      <td>Medium</td>\n",
       "      <td>2023</td>\n",
       "    </tr>\n",
       "    <tr>\n",
       "      <th>2</th>\n",
       "      <td>Data Engineer</td>\n",
       "      <td>Full-Time</td>\n",
       "      <td>Senior</td>\n",
       "      <td>Expert</td>\n",
       "      <td>185900</td>\n",
       "      <td>United States Dollar</td>\n",
       "      <td>United States</td>\n",
       "      <td>185900</td>\n",
       "      <td>United States</td>\n",
       "      <td>Medium</td>\n",
       "      <td>2023</td>\n",
       "    </tr>\n",
       "    <tr>\n",
       "      <th>3</th>\n",
       "      <td>Data Engineer</td>\n",
       "      <td>Full-Time</td>\n",
       "      <td>Senior</td>\n",
       "      <td>Expert</td>\n",
       "      <td>129300</td>\n",
       "      <td>United States Dollar</td>\n",
       "      <td>United States</td>\n",
       "      <td>129300</td>\n",
       "      <td>United States</td>\n",
       "      <td>Medium</td>\n",
       "      <td>2023</td>\n",
       "    </tr>\n",
       "    <tr>\n",
       "      <th>4</th>\n",
       "      <td>Data Scientist</td>\n",
       "      <td>Full-Time</td>\n",
       "      <td>Senior</td>\n",
       "      <td>Expert</td>\n",
       "      <td>140000</td>\n",
       "      <td>United States Dollar</td>\n",
       "      <td>United States</td>\n",
       "      <td>140000</td>\n",
       "      <td>United States</td>\n",
       "      <td>Medium</td>\n",
       "      <td>2023</td>\n",
       "    </tr>\n",
       "    <tr>\n",
       "      <th>5</th>\n",
       "      <td>Data Scientist</td>\n",
       "      <td>Full-Time</td>\n",
       "      <td>Senior</td>\n",
       "      <td>Expert</td>\n",
       "      <td>126000</td>\n",
       "      <td>United States Dollar</td>\n",
       "      <td>United States</td>\n",
       "      <td>126000</td>\n",
       "      <td>United States</td>\n",
       "      <td>Medium</td>\n",
       "      <td>2023</td>\n",
       "    </tr>\n",
       "    <tr>\n",
       "      <th>6</th>\n",
       "      <td>Data Scientist</td>\n",
       "      <td>Full-Time</td>\n",
       "      <td>Senior</td>\n",
       "      <td>Expert</td>\n",
       "      <td>170000</td>\n",
       "      <td>United States Dollar</td>\n",
       "      <td>United States</td>\n",
       "      <td>170000</td>\n",
       "      <td>United States</td>\n",
       "      <td>Medium</td>\n",
       "      <td>2023</td>\n",
       "    </tr>\n",
       "    <tr>\n",
       "      <th>7</th>\n",
       "      <td>Data Scientist</td>\n",
       "      <td>Full-Time</td>\n",
       "      <td>Senior</td>\n",
       "      <td>Expert</td>\n",
       "      <td>130000</td>\n",
       "      <td>United States Dollar</td>\n",
       "      <td>United States</td>\n",
       "      <td>130000</td>\n",
       "      <td>United States</td>\n",
       "      <td>Medium</td>\n",
       "      <td>2023</td>\n",
       "    </tr>\n",
       "    <tr>\n",
       "      <th>8</th>\n",
       "      <td>Data Engineer</td>\n",
       "      <td>Full-Time</td>\n",
       "      <td>Mid</td>\n",
       "      <td>Intermediate</td>\n",
       "      <td>85000</td>\n",
       "      <td>British Pound Sterling</td>\n",
       "      <td>United Kingdom</td>\n",
       "      <td>104584</td>\n",
       "      <td>United Kingdom</td>\n",
       "      <td>Medium</td>\n",
       "      <td>2023</td>\n",
       "    </tr>\n",
       "    <tr>\n",
       "      <th>9</th>\n",
       "      <td>Data Engineer</td>\n",
       "      <td>Full-Time</td>\n",
       "      <td>Mid</td>\n",
       "      <td>Intermediate</td>\n",
       "      <td>75000</td>\n",
       "      <td>British Pound Sterling</td>\n",
       "      <td>United Kingdom</td>\n",
       "      <td>92280</td>\n",
       "      <td>United Kingdom</td>\n",
       "      <td>Medium</td>\n",
       "      <td>2023</td>\n",
       "    </tr>\n",
       "  </tbody>\n",
       "</table>\n",
       "</div>"
      ],
      "text/plain": [
       "        Job Title Employment Type Experience Level Expertise Level  Salary  \\\n",
       "0   Data Engineer       Full-Time           Senior          Expert  210000   \n",
       "1   Data Engineer       Full-Time           Senior          Expert  165000   \n",
       "2   Data Engineer       Full-Time           Senior          Expert  185900   \n",
       "3   Data Engineer       Full-Time           Senior          Expert  129300   \n",
       "4  Data Scientist       Full-Time           Senior          Expert  140000   \n",
       "5  Data Scientist       Full-Time           Senior          Expert  126000   \n",
       "6  Data Scientist       Full-Time           Senior          Expert  170000   \n",
       "7  Data Scientist       Full-Time           Senior          Expert  130000   \n",
       "8   Data Engineer       Full-Time              Mid    Intermediate   85000   \n",
       "9   Data Engineer       Full-Time              Mid    Intermediate   75000   \n",
       "\n",
       "          Salary Currency Company Location  Salary in USD Employee Residence  \\\n",
       "0    United States Dollar    United States         210000      United States   \n",
       "1    United States Dollar    United States         165000      United States   \n",
       "2    United States Dollar    United States         185900      United States   \n",
       "3    United States Dollar    United States         129300      United States   \n",
       "4    United States Dollar    United States         140000      United States   \n",
       "5    United States Dollar    United States         126000      United States   \n",
       "6    United States Dollar    United States         170000      United States   \n",
       "7    United States Dollar    United States         130000      United States   \n",
       "8  British Pound Sterling   United Kingdom         104584     United Kingdom   \n",
       "9  British Pound Sterling   United Kingdom          92280     United Kingdom   \n",
       "\n",
       "  Company Size  Year  \n",
       "0       Medium  2023  \n",
       "1       Medium  2023  \n",
       "2       Medium  2023  \n",
       "3       Medium  2023  \n",
       "4       Medium  2023  \n",
       "5       Medium  2023  \n",
       "6       Medium  2023  \n",
       "7       Medium  2023  \n",
       "8       Medium  2023  \n",
       "9       Medium  2023  "
      ]
     },
     "execution_count": 13,
     "metadata": {},
     "output_type": "execute_result"
    }
   ],
   "source": [
    "import pandas as pd\n",
    "import matplotlib.pyplot as plt\n",
    "df = pd.read_csv(\"Latest_Data_Science_Salaries.csv\")\n",
    "df.head(10)"
   ]
  },
  {
   "cell_type": "markdown",
   "metadata": {},
   "source": [
    "# Ejercicio en Clase:\n",
    "\n",
    "Para este ejercicio debes realizar los siguientes pasos de manera anticipada los siguientes procesos:\n",
    "- Cargar el conjunto de datos desde un archivo CSV utilizando pandas.\n",
    "- Explorar y familiarizarse con la estructura del conjunto de datos.\n",
    "- Calcular estadísticas descriptivas, como el promedio, la mediana y la desviación estándar, de variables relevantes del conjunto de datos general.\n",
    "\n",
    "#### Acciones por ejecutar\n",
    "\n",
    "1. ¿Cúantos posibles \"Job Title\" existen en el Dataset?\n",
    "2. ¿Cúales son los \"Employment Type\" y en qué frecuencia se presentan en el Dataset?\n",
    "3. ¿Cuáles son los \"Expertise Level\" y \"Experience Level\" y cuál es el salario promedio general de cada uno?\n",
    "4. ¿Cuáles son los \"Salary Currency\" y a qué tasa está covertido respecto al dolar cada uno?\n",
    "5. ¿En cuántos paises diferentes se encuentran los empleados (\"Employee Residence\")?\n",
    "6. ¿Cuál salario promedio por \"Job Title\" agrupado?\n",
    "7. ¿Cuál es el salario promedio por país de residencia (Employee Residence)?\n",
    "8. ¿Cuál es el \"Salary in USD\" máximo y mínimo?¿A qué registro pertenece?\n",
    "9. ¿Cuál es el salario promedio (en USD) por rol por tamaño de compañía?\n",
    "10. muestre los datos agrupados por tamaño de la compañía, país y salario promedio."
   ]
  },
  {
   "cell_type": "markdown",
   "metadata": {},
   "source": [
    "### Propuesta de solución\n"
   ]
  },
  {
   "cell_type": "code",
   "execution_count": 1,
   "metadata": {},
   "outputs": [
    {
     "data": {
      "text/html": [
       "<div>\n",
       "<style scoped>\n",
       "    .dataframe tbody tr th:only-of-type {\n",
       "        vertical-align: middle;\n",
       "    }\n",
       "\n",
       "    .dataframe tbody tr th {\n",
       "        vertical-align: top;\n",
       "    }\n",
       "\n",
       "    .dataframe thead th {\n",
       "        text-align: right;\n",
       "    }\n",
       "</style>\n",
       "<table border=\"1\" class=\"dataframe\">\n",
       "  <thead>\n",
       "    <tr style=\"text-align: right;\">\n",
       "      <th></th>\n",
       "      <th>Job Title</th>\n",
       "      <th>Employment Type</th>\n",
       "      <th>Experience Level</th>\n",
       "      <th>Expertise Level</th>\n",
       "      <th>Salary</th>\n",
       "      <th>Salary Currency</th>\n",
       "      <th>Company Location</th>\n",
       "      <th>Salary in USD</th>\n",
       "      <th>Employee Residence</th>\n",
       "      <th>Company Size</th>\n",
       "      <th>Year</th>\n",
       "    </tr>\n",
       "  </thead>\n",
       "  <tbody>\n",
       "    <tr>\n",
       "      <th>0</th>\n",
       "      <td>Data Engineer</td>\n",
       "      <td>Full-Time</td>\n",
       "      <td>Senior</td>\n",
       "      <td>Expert</td>\n",
       "      <td>210000</td>\n",
       "      <td>United States Dollar</td>\n",
       "      <td>United States</td>\n",
       "      <td>210000</td>\n",
       "      <td>United States</td>\n",
       "      <td>Medium</td>\n",
       "      <td>2023</td>\n",
       "    </tr>\n",
       "    <tr>\n",
       "      <th>1</th>\n",
       "      <td>Data Engineer</td>\n",
       "      <td>Full-Time</td>\n",
       "      <td>Senior</td>\n",
       "      <td>Expert</td>\n",
       "      <td>165000</td>\n",
       "      <td>United States Dollar</td>\n",
       "      <td>United States</td>\n",
       "      <td>165000</td>\n",
       "      <td>United States</td>\n",
       "      <td>Medium</td>\n",
       "      <td>2023</td>\n",
       "    </tr>\n",
       "    <tr>\n",
       "      <th>2</th>\n",
       "      <td>Data Engineer</td>\n",
       "      <td>Full-Time</td>\n",
       "      <td>Senior</td>\n",
       "      <td>Expert</td>\n",
       "      <td>185900</td>\n",
       "      <td>United States Dollar</td>\n",
       "      <td>United States</td>\n",
       "      <td>185900</td>\n",
       "      <td>United States</td>\n",
       "      <td>Medium</td>\n",
       "      <td>2023</td>\n",
       "    </tr>\n",
       "    <tr>\n",
       "      <th>3</th>\n",
       "      <td>Data Engineer</td>\n",
       "      <td>Full-Time</td>\n",
       "      <td>Senior</td>\n",
       "      <td>Expert</td>\n",
       "      <td>129300</td>\n",
       "      <td>United States Dollar</td>\n",
       "      <td>United States</td>\n",
       "      <td>129300</td>\n",
       "      <td>United States</td>\n",
       "      <td>Medium</td>\n",
       "      <td>2023</td>\n",
       "    </tr>\n",
       "    <tr>\n",
       "      <th>4</th>\n",
       "      <td>Data Scientist</td>\n",
       "      <td>Full-Time</td>\n",
       "      <td>Senior</td>\n",
       "      <td>Expert</td>\n",
       "      <td>140000</td>\n",
       "      <td>United States Dollar</td>\n",
       "      <td>United States</td>\n",
       "      <td>140000</td>\n",
       "      <td>United States</td>\n",
       "      <td>Medium</td>\n",
       "      <td>2023</td>\n",
       "    </tr>\n",
       "    <tr>\n",
       "      <th>5</th>\n",
       "      <td>Data Scientist</td>\n",
       "      <td>Full-Time</td>\n",
       "      <td>Senior</td>\n",
       "      <td>Expert</td>\n",
       "      <td>126000</td>\n",
       "      <td>United States Dollar</td>\n",
       "      <td>United States</td>\n",
       "      <td>126000</td>\n",
       "      <td>United States</td>\n",
       "      <td>Medium</td>\n",
       "      <td>2023</td>\n",
       "    </tr>\n",
       "    <tr>\n",
       "      <th>6</th>\n",
       "      <td>Data Scientist</td>\n",
       "      <td>Full-Time</td>\n",
       "      <td>Senior</td>\n",
       "      <td>Expert</td>\n",
       "      <td>170000</td>\n",
       "      <td>United States Dollar</td>\n",
       "      <td>United States</td>\n",
       "      <td>170000</td>\n",
       "      <td>United States</td>\n",
       "      <td>Medium</td>\n",
       "      <td>2023</td>\n",
       "    </tr>\n",
       "    <tr>\n",
       "      <th>7</th>\n",
       "      <td>Data Scientist</td>\n",
       "      <td>Full-Time</td>\n",
       "      <td>Senior</td>\n",
       "      <td>Expert</td>\n",
       "      <td>130000</td>\n",
       "      <td>United States Dollar</td>\n",
       "      <td>United States</td>\n",
       "      <td>130000</td>\n",
       "      <td>United States</td>\n",
       "      <td>Medium</td>\n",
       "      <td>2023</td>\n",
       "    </tr>\n",
       "    <tr>\n",
       "      <th>8</th>\n",
       "      <td>Data Engineer</td>\n",
       "      <td>Full-Time</td>\n",
       "      <td>Mid</td>\n",
       "      <td>Intermediate</td>\n",
       "      <td>85000</td>\n",
       "      <td>British Pound Sterling</td>\n",
       "      <td>United Kingdom</td>\n",
       "      <td>104584</td>\n",
       "      <td>United Kingdom</td>\n",
       "      <td>Medium</td>\n",
       "      <td>2023</td>\n",
       "    </tr>\n",
       "    <tr>\n",
       "      <th>9</th>\n",
       "      <td>Data Engineer</td>\n",
       "      <td>Full-Time</td>\n",
       "      <td>Mid</td>\n",
       "      <td>Intermediate</td>\n",
       "      <td>75000</td>\n",
       "      <td>British Pound Sterling</td>\n",
       "      <td>United Kingdom</td>\n",
       "      <td>92280</td>\n",
       "      <td>United Kingdom</td>\n",
       "      <td>Medium</td>\n",
       "      <td>2023</td>\n",
       "    </tr>\n",
       "  </tbody>\n",
       "</table>\n",
       "</div>"
      ],
      "text/plain": [
       "        Job Title Employment Type Experience Level Expertise Level  Salary  \\\n",
       "0   Data Engineer       Full-Time           Senior          Expert  210000   \n",
       "1   Data Engineer       Full-Time           Senior          Expert  165000   \n",
       "2   Data Engineer       Full-Time           Senior          Expert  185900   \n",
       "3   Data Engineer       Full-Time           Senior          Expert  129300   \n",
       "4  Data Scientist       Full-Time           Senior          Expert  140000   \n",
       "5  Data Scientist       Full-Time           Senior          Expert  126000   \n",
       "6  Data Scientist       Full-Time           Senior          Expert  170000   \n",
       "7  Data Scientist       Full-Time           Senior          Expert  130000   \n",
       "8   Data Engineer       Full-Time              Mid    Intermediate   85000   \n",
       "9   Data Engineer       Full-Time              Mid    Intermediate   75000   \n",
       "\n",
       "          Salary Currency Company Location  Salary in USD Employee Residence  \\\n",
       "0    United States Dollar    United States         210000      United States   \n",
       "1    United States Dollar    United States         165000      United States   \n",
       "2    United States Dollar    United States         185900      United States   \n",
       "3    United States Dollar    United States         129300      United States   \n",
       "4    United States Dollar    United States         140000      United States   \n",
       "5    United States Dollar    United States         126000      United States   \n",
       "6    United States Dollar    United States         170000      United States   \n",
       "7    United States Dollar    United States         130000      United States   \n",
       "8  British Pound Sterling   United Kingdom         104584     United Kingdom   \n",
       "9  British Pound Sterling   United Kingdom          92280     United Kingdom   \n",
       "\n",
       "  Company Size  Year  \n",
       "0       Medium  2023  \n",
       "1       Medium  2023  \n",
       "2       Medium  2023  \n",
       "3       Medium  2023  \n",
       "4       Medium  2023  \n",
       "5       Medium  2023  \n",
       "6       Medium  2023  \n",
       "7       Medium  2023  \n",
       "8       Medium  2023  \n",
       "9       Medium  2023  "
      ]
     },
     "execution_count": 1,
     "metadata": {},
     "output_type": "execute_result"
    }
   ],
   "source": [
    "import pandas as pd\n",
    "import matplotlib.pyplot as plt\n",
    "df = pd.read_csv(\"Latest_Data_Science_Salaries.csv\")\n",
    "df.head(10)"
   ]
  },
  {
   "cell_type": "code",
   "execution_count": 15,
   "metadata": {},
   "outputs": [
    {
     "data": {
      "text/html": [
       "<div>\n",
       "<style scoped>\n",
       "    .dataframe tbody tr th:only-of-type {\n",
       "        vertical-align: middle;\n",
       "    }\n",
       "\n",
       "    .dataframe tbody tr th {\n",
       "        vertical-align: top;\n",
       "    }\n",
       "\n",
       "    .dataframe thead th {\n",
       "        text-align: right;\n",
       "    }\n",
       "</style>\n",
       "<table border=\"1\" class=\"dataframe\">\n",
       "  <thead>\n",
       "    <tr style=\"text-align: right;\">\n",
       "      <th></th>\n",
       "      <th>Job Title</th>\n",
       "      <th>Employment Type</th>\n",
       "      <th>Experience Level</th>\n",
       "      <th>Expertise Level</th>\n",
       "      <th>Salary</th>\n",
       "      <th>Salary Currency</th>\n",
       "      <th>Company Location</th>\n",
       "      <th>Salary in USD</th>\n",
       "      <th>Employee Residence</th>\n",
       "      <th>Company Size</th>\n",
       "      <th>Year</th>\n",
       "    </tr>\n",
       "  </thead>\n",
       "  <tbody>\n",
       "    <tr>\n",
       "      <th>0</th>\n",
       "      <td>Data Engineer</td>\n",
       "      <td>Full-Time</td>\n",
       "      <td>Senior</td>\n",
       "      <td>Expert</td>\n",
       "      <td>210000</td>\n",
       "      <td>United States Dollar</td>\n",
       "      <td>United States</td>\n",
       "      <td>210000</td>\n",
       "      <td>United States</td>\n",
       "      <td>Medium</td>\n",
       "      <td>2023</td>\n",
       "    </tr>\n",
       "    <tr>\n",
       "      <th>1</th>\n",
       "      <td>Data Engineer</td>\n",
       "      <td>Full-Time</td>\n",
       "      <td>Senior</td>\n",
       "      <td>Expert</td>\n",
       "      <td>165000</td>\n",
       "      <td>United States Dollar</td>\n",
       "      <td>United States</td>\n",
       "      <td>165000</td>\n",
       "      <td>United States</td>\n",
       "      <td>Medium</td>\n",
       "      <td>2023</td>\n",
       "    </tr>\n",
       "    <tr>\n",
       "      <th>2</th>\n",
       "      <td>Data Engineer</td>\n",
       "      <td>Full-Time</td>\n",
       "      <td>Senior</td>\n",
       "      <td>Expert</td>\n",
       "      <td>185900</td>\n",
       "      <td>United States Dollar</td>\n",
       "      <td>United States</td>\n",
       "      <td>185900</td>\n",
       "      <td>United States</td>\n",
       "      <td>Medium</td>\n",
       "      <td>2023</td>\n",
       "    </tr>\n",
       "    <tr>\n",
       "      <th>3</th>\n",
       "      <td>Data Engineer</td>\n",
       "      <td>Full-Time</td>\n",
       "      <td>Senior</td>\n",
       "      <td>Expert</td>\n",
       "      <td>129300</td>\n",
       "      <td>United States Dollar</td>\n",
       "      <td>United States</td>\n",
       "      <td>129300</td>\n",
       "      <td>United States</td>\n",
       "      <td>Medium</td>\n",
       "      <td>2023</td>\n",
       "    </tr>\n",
       "    <tr>\n",
       "      <th>4</th>\n",
       "      <td>Data Scientist</td>\n",
       "      <td>Full-Time</td>\n",
       "      <td>Senior</td>\n",
       "      <td>Expert</td>\n",
       "      <td>140000</td>\n",
       "      <td>United States Dollar</td>\n",
       "      <td>United States</td>\n",
       "      <td>140000</td>\n",
       "      <td>United States</td>\n",
       "      <td>Medium</td>\n",
       "      <td>2023</td>\n",
       "    </tr>\n",
       "  </tbody>\n",
       "</table>\n",
       "</div>"
      ],
      "text/plain": [
       "        Job Title Employment Type Experience Level Expertise Level  Salary  \\\n",
       "0   Data Engineer       Full-Time           Senior          Expert  210000   \n",
       "1   Data Engineer       Full-Time           Senior          Expert  165000   \n",
       "2   Data Engineer       Full-Time           Senior          Expert  185900   \n",
       "3   Data Engineer       Full-Time           Senior          Expert  129300   \n",
       "4  Data Scientist       Full-Time           Senior          Expert  140000   \n",
       "\n",
       "        Salary Currency Company Location  Salary in USD Employee Residence  \\\n",
       "0  United States Dollar    United States         210000      United States   \n",
       "1  United States Dollar    United States         165000      United States   \n",
       "2  United States Dollar    United States         185900      United States   \n",
       "3  United States Dollar    United States         129300      United States   \n",
       "4  United States Dollar    United States         140000      United States   \n",
       "\n",
       "  Company Size  Year  \n",
       "0       Medium  2023  \n",
       "1       Medium  2023  \n",
       "2       Medium  2023  \n",
       "3       Medium  2023  \n",
       "4       Medium  2023  "
      ]
     },
     "execution_count": 15,
     "metadata": {},
     "output_type": "execute_result"
    }
   ],
   "source": [
    "df.head()"
   ]
  },
  {
   "cell_type": "code",
   "execution_count": 16,
   "metadata": {},
   "outputs": [
    {
     "data": {
      "text/plain": [
       "204662.29212121211"
      ]
     },
     "execution_count": 16,
     "metadata": {},
     "output_type": "execute_result"
    }
   ],
   "source": [
    "df[\"Salary\"].mean()"
   ]
  },
  {
   "cell_type": "code",
   "execution_count": 17,
   "metadata": {},
   "outputs": [
    {
     "data": {
      "text/plain": [
       "142095.98393939395"
      ]
     },
     "execution_count": 17,
     "metadata": {},
     "output_type": "execute_result"
    }
   ],
   "source": [
    "df[\"Salary in USD\"].mean()"
   ]
  },
  {
   "cell_type": "code",
   "execution_count": 18,
   "metadata": {},
   "outputs": [
    {
     "data": {
      "text/plain": [
       "2022.4954545454545"
      ]
     },
     "execution_count": 18,
     "metadata": {},
     "output_type": "execute_result"
    }
   ],
   "source": [
    "df[\"Year\"].mean()"
   ]
  },
  {
   "cell_type": "code",
   "execution_count": 19,
   "metadata": {},
   "outputs": [
    {
     "data": {
      "text/plain": [
       "140000.0"
      ]
     },
     "execution_count": 19,
     "metadata": {},
     "output_type": "execute_result"
    }
   ],
   "source": [
    "df['Salary'].median()"
   ]
  },
  {
   "cell_type": "code",
   "execution_count": 20,
   "metadata": {},
   "outputs": [
    {
     "data": {
      "text/plain": [
       "136000.0"
      ]
     },
     "execution_count": 20,
     "metadata": {},
     "output_type": "execute_result"
    }
   ],
   "source": [
    "df['Salary in USD'].median()"
   ]
  },
  {
   "cell_type": "code",
   "execution_count": 21,
   "metadata": {},
   "outputs": [
    {
     "data": {
      "text/plain": [
       "2023.0"
      ]
     },
     "execution_count": 21,
     "metadata": {},
     "output_type": "execute_result"
    }
   ],
   "source": [
    "df['Year'].median()"
   ]
  },
  {
   "cell_type": "code",
   "execution_count": 22,
   "metadata": {},
   "outputs": [
    {
     "data": {
      "text/plain": [
       "727938.2945215825"
      ]
     },
     "execution_count": 22,
     "metadata": {},
     "output_type": "execute_result"
    }
   ],
   "source": [
    "df['Salary'].std()"
   ]
  },
  {
   "cell_type": "code",
   "execution_count": 23,
   "metadata": {},
   "outputs": [
    {
     "data": {
      "text/plain": [
       "69028.23551160393"
      ]
     },
     "execution_count": 23,
     "metadata": {},
     "output_type": "execute_result"
    }
   ],
   "source": [
    "df['Salary in USD'].std()"
   ]
  },
  {
   "cell_type": "code",
   "execution_count": 25,
   "metadata": {},
   "outputs": [
    {
     "data": {
      "text/plain": [
       "0.7163554609710969"
      ]
     },
     "execution_count": 25,
     "metadata": {},
     "output_type": "execute_result"
    }
   ],
   "source": [
    "df['Year'].std()"
   ]
  },
  {
   "cell_type": "code",
   "execution_count": null,
   "metadata": {},
   "outputs": [],
   "source": []
  },
  {
   "cell_type": "markdown",
   "metadata": {},
   "source": [
    "Los títulos posibles en el data base son"
   ]
  },
  {
   "cell_type": "code",
   "execution_count": 33,
   "metadata": {},
   "outputs": [
    {
     "name": "stdout",
     "output_type": "stream",
     "text": [
      "111\n"
     ]
    }
   ],
   "source": [
    "job_titles = df['Job Title'].nunique()\n",
    "print(job_titles)"
   ]
  },
  {
   "cell_type": "markdown",
   "metadata": {},
   "source": [
    "¿Cúales son los \"Employment Type\" y en qué frecuencia se presentan en el Dataset?"
   ]
  },
  {
   "cell_type": "code",
   "execution_count": 48,
   "metadata": {},
   "outputs": [
    {
     "name": "stdout",
     "output_type": "stream",
     "text": [
      "Job Type: Full-Time Amount: 3261\n",
      "Job Type: Contract Amount: 15\n",
      "Job Type: Part-Time Amount: 13\n",
      "Job Type: Freelance Amount: 11\n"
     ]
    }
   ],
   "source": [
    "job_type = df['Employment Type'].unique()\n",
    "for job in job_type:\n",
    "    count = df['Employment Type'].value_counts()[job]\n",
    "    print(\"Job Type:\",job,\"Amount:\",count)\n",
    "    "
   ]
  },
  {
   "cell_type": "markdown",
   "metadata": {},
   "source": [
    "¿Cuáles son los \"Expertise Level\" y \"Experience Level\" y cuál es el salario promedio general de cada uno?"
   ]
  },
  {
   "cell_type": "code",
   "execution_count": 61,
   "metadata": {},
   "outputs": [
    {
     "name": "stdout",
     "output_type": "stream",
     "text": [
      "nan\n",
      "nan\n",
      "nan\n",
      "nan\n",
      "['Expert' 'Intermediate' 'Director' 'Junior'] ['Senior' 'Mid' 'Executive' 'Entry']\n",
      "0             Expert\n",
      "1             Expert\n",
      "2             Expert\n",
      "3             Expert\n",
      "4             Expert\n",
      "            ...     \n",
      "3295          Expert\n",
      "3296    Intermediate\n",
      "3297          Junior\n",
      "3298          Junior\n",
      "3299          Expert\n",
      "Name: Expertise Level, Length: 3300, dtype: object\n"
     ]
    }
   ],
   "source": [
    "\"\"\"job_expertise = df['Expertise Level']\n",
    "job_experience = df['Experience Level']\n",
    "\n",
    "expertise_levels = job_expertise.unique()\n",
    "experience_levels = job_experience.unique()\n",
    "\n",
    "for level in experience_levels:\n",
    "    level_salary = df[df['Expertise Level'] == level]\n",
    "    print(level_salary['Salary'].mean())\n",
    "\n",
    "resultado = df[job_expertise == 'Expert']\n",
    "\n",
    "print(expertise_levels, experience_levels)\n",
    "print(df['Expertise Level'])\n",
    "El intento fracasado de Melanie\n",
    "\"\"\"\n"
   ]
  },
  {
   "cell_type": "code",
   "execution_count": 63,
   "metadata": {},
   "outputs": [
    {
     "data": {
      "text/plain": [
       "Expertise Level\n",
       "Director        191512.143836\n",
       "Expert          160277.513317\n",
       "Intermediate    108714.977415\n",
       "Junior           79921.479452\n",
       "Name: Salary in USD, dtype: float64"
      ]
     },
     "execution_count": 63,
     "metadata": {},
     "output_type": "execute_result"
    }
   ],
   "source": [
    "df_grouped = df.groupby('Expertise Level')['Salary in USD'].mean()\n",
    "df_grouped"
   ]
  },
  {
   "cell_type": "markdown",
   "metadata": {},
   "source": []
  },
  {
   "cell_type": "markdown",
   "metadata": {},
   "source": [
    "¿En cuántos paises diferentes se encuentran los empleados (\"Employee Residence\")?"
   ]
  },
  {
   "cell_type": "code",
   "execution_count": 17,
   "metadata": {},
   "outputs": [
    {
     "name": "stdout",
     "output_type": "stream",
     "text": [
      "Paises diferentes: ['United States' 'United Kingdom' 'Germany' 'India' 'Korea, Republic of'\n",
      " 'Spain' 'Estonia' 'France' 'Philippines' 'Canada' 'Australia' 'Turkey'\n",
      " 'Portugal' 'Brazil' 'Belgium' 'Switzerland' 'Andorra' 'Netherlands'\n",
      " 'Ecuador' 'Peru' 'Mexico' 'Moldova, Republic of' 'Nigeria' 'Saudi Arabia'\n",
      " 'Colombia' 'Ghana' 'Poland' 'Norway' 'Argentina' 'Egypt' 'Uzbekistan'\n",
      " 'Georgia' 'Japan' 'South Africa' 'Italy' 'Hong Kong'\n",
      " 'Central African Republic' 'Finland' 'Ukraine' 'Ireland' 'Israel'\n",
      " 'Austria' 'Singapore' 'Sweden' 'Slovenia' 'Thailand' 'Croatia' 'Kuwait'\n",
      " 'Cyprus' 'Armenia' 'Bosnia and Herzegovina' 'Kenya' 'Latvia' 'Romania'\n",
      " 'Pakistan' 'Lithuania' 'Iran, Islamic Republic of' 'American Samoa'\n",
      " 'Hungary' 'China' 'Costa Rica' 'Chile' 'Puerto Rico' 'Greece' 'Denmark'\n",
      " 'Bolivia, Plurinational State of' 'Dominican Republic' 'Indonesia'\n",
      " 'United Arab Emirates' 'Malaysia' 'Honduras' 'Tunisia' 'Czechia'\n",
      " 'Russian Federation' 'Algeria' 'Viet Nam' 'Iraq' 'Bulgaria' 'Jersey'\n",
      " 'Serbia' 'New Zealand' 'Luxembourg' 'Malta'] Cantidad de paises: 83\n"
     ]
    }
   ],
   "source": [
    "countries = df['Employee Residence'].unique()\n",
    "countries = (countries)\n",
    "\n",
    "amount_countries = len(countries)\n",
    "\n",
    "print(\"Paises diferentes:\", countries, \"Cantidad de paises:\", amount_countries)"
   ]
  },
  {
   "cell_type": "markdown",
   "metadata": {},
   "source": [
    "¿Cuál salario promedio por \"Job Title\" agrupado?"
   ]
  },
  {
   "cell_type": "code",
   "execution_count": 18,
   "metadata": {},
   "outputs": [
    {
     "name": "stdout",
     "output_type": "stream",
     "text": [
      "Salario promedio agrupado: Job Title\n",
      "AI Architect                       233500.000000\n",
      "AI Developer                       133666.666667\n",
      "AI Programmer                       62500.000000\n",
      "AI Scientist                       263444.444444\n",
      "AWS Data Architect                 258000.000000\n",
      "                                       ...      \n",
      "Sales Data Analyst                  60000.000000\n",
      "Software Data Engineer             120000.000000\n",
      "Staff Data Analyst                  97499.000000\n",
      "Staff Data Scientist               134500.000000\n",
      "Staff Machine Learning Engineer    185000.000000\n",
      "Name: Salary, Length: 111, dtype: float64\n"
     ]
    }
   ],
   "source": [
    "prom_job = df.groupby('Job Title')['Salary'].mean()\n",
    "\n",
    "print(\"Salario promedio agrupado:\",prom_job)"
   ]
  },
  {
   "cell_type": "markdown",
   "metadata": {},
   "source": [
    "¿Cuál es el salario promedio por país de residencia (Employee Residence)?"
   ]
  },
  {
   "cell_type": "code",
   "execution_count": 26,
   "metadata": {},
   "outputs": [
    {
     "name": "stdout",
     "output_type": "stream",
     "text": [
      "Promedio de salario: Employee Residence\n",
      "Algeria                 100000.000000\n",
      "American Samoa           45555.000000\n",
      "Andorra                  47000.000000\n",
      "Argentina                56444.444444\n",
      "Armenia                  50000.000000\n",
      "                            ...      \n",
      "United Arab Emirates    100000.000000\n",
      "United Kingdom           96596.857143\n",
      "United States           159794.726050\n",
      "Uzbekistan               82000.000000\n",
      "Viet Nam                 44200.000000\n",
      "Name: Salary, Length: 83, dtype: float64\n"
     ]
    }
   ],
   "source": [
    "prom_country = df.groupby('Employee Residence')['Salary'].mean()\n",
    "\n",
    "print(\"Promedio de salario:\", prom_country)"
   ]
  },
  {
   "cell_type": "markdown",
   "metadata": {},
   "source": [
    "¿Cuál es el \"Salary in USD\" máximo y mínimo?¿A qué registro pertenece?"
   ]
  },
  {
   "cell_type": "code",
   "execution_count": 5,
   "metadata": {
    "scrolled": true
   },
   "outputs": [
    {
     "name": "stdout",
     "output_type": "stream",
     "text": [
      "Registro de salario máximo:\n",
      "                Job Title Employment Type Experience Level Expertise Level  \\\n",
      "3085  Research Scientist       Full-Time              Mid    Intermediate   \n",
      "\n",
      "      Salary       Salary Currency Company Location  Salary in USD  \\\n",
      "3085  450000  United States Dollar    United States         450000   \n",
      "\n",
      "     Employee Residence Company Size  Year  \n",
      "3085      United States       Medium  2020  \n",
      "\n",
      "Registro de salario mínimo:\n",
      "                        Job Title Employment Type Experience Level  \\\n",
      "1335          Staff Data Analyst       Full-Time        Executive   \n",
      "2641  Machine Learning Developer       Full-Time            Entry   \n",
      "2826                Data Analyst       Full-Time            Entry   \n",
      "\n",
      "     Expertise Level  Salary       Salary Currency Company Location  \\\n",
      "1335        Director   15000  United States Dollar           Canada   \n",
      "2641          Junior   15000  United States Dollar         Thailand   \n",
      "2826          Junior   15000  United States Dollar        Indonesia   \n",
      "\n",
      "      Salary in USD Employee Residence Company Size  Year  \n",
      "1335          15000            Nigeria       Medium  2020  \n",
      "2641          15000           Thailand        Large  2021  \n",
      "2826          15000          Indonesia        Large  2022  \n"
     ]
    }
   ],
   "source": [
    "salario_maximo = df['Salary in USD'].max()\n",
    "registro_salario_maximo = df[df['Salary in USD'] == salario_maximo]\n",
    "\n",
    "salario_minimo = df['Salary in USD'].min()\n",
    "registro_salario_minimo = df[df['Salary in USD'] == salario_minimo]\n",
    "\n",
    "print(\"Registro de salario máximo:\\n\", registro_salario_maximo)\n",
    "print(\"\\nRegistro de salario mínimo:\\n\", registro_salario_minimo)"
   ]
  },
  {
   "cell_type": "markdown",
   "metadata": {},
   "source": [
    "¿Cuál es el salario promedio (en USD) por rol por tamaño de compañía?"
   ]
  },
  {
   "cell_type": "code",
   "execution_count": 6,
   "metadata": {},
   "outputs": [
    {
     "name": "stdout",
     "output_type": "stream",
     "text": [
      "                           Job Title Company Size  Salary in USD\n",
      "0                       AI Architect        Large       207968.0\n",
      "1                       AI Architect       Medium       267000.0\n",
      "2                       AI Developer        Large       215936.0\n",
      "3                       AI Developer       Medium        97944.0\n",
      "4                       AI Developer        Small       197500.0\n",
      "..                               ...          ...            ...\n",
      "199           Software Data Engineer       Medium        50000.0\n",
      "200               Staff Data Analyst       Medium        15000.0\n",
      "201               Staff Data Analyst        Small       179998.0\n",
      "202             Staff Data Scientist       Medium       134500.0\n",
      "203  Staff Machine Learning Engineer       Medium       185000.0\n",
      "\n",
      "[204 rows x 3 columns]\n"
     ]
    }
   ],
   "source": [
    "promedio_por_grupo = df.groupby(['Job Title', 'Company Size'])['Salary in USD'].mean().reset_index()\n",
    "\n",
    "print(promedio_por_grupo)"
   ]
  },
  {
   "cell_type": "markdown",
   "metadata": {},
   "source": []
  },
  {
   "cell_type": "code",
   "execution_count": 11,
   "metadata": {},
   "outputs": [
    {
     "name": "stdout",
     "output_type": "stream",
     "text": [
      "    Company Size               Employee Residence  Salary in USD\n",
      "0          Large                        Argentina   55000.000000\n",
      "1          Large                        Australia   77823.857143\n",
      "2          Large                          Austria   75141.666667\n",
      "3          Large                          Belgium  149994.500000\n",
      "4          Large  Bolivia, Plurinational State of   75000.000000\n",
      "..           ...                              ...            ...\n",
      "144        Small                           Turkey   60000.000000\n",
      "145        Small                          Ukraine   50000.000000\n",
      "146        Small             United Arab Emirates   92500.000000\n",
      "147        Small                   United Kingdom  100360.000000\n",
      "148        Small                    United States  123942.325581\n",
      "\n",
      "[149 rows x 3 columns]\n"
     ]
    }
   ],
   "source": [
    "promedio_por_grupo = df.pivot_table(index=['Company Size', 'Employee Residence'], values='Salary in USD', aggfunc='mean').reset_index()\n",
    "\n",
    "print(promedio_por_grupo)"
   ]
  },
  {
   "cell_type": "code",
   "execution_count": null,
   "metadata": {},
   "outputs": [],
   "source": []
  }
 ],
 "metadata": {
  "kernelspec": {
   "display_name": "Python 3 (ipykernel)",
   "language": "python",
   "name": "python3"
  },
  "language_info": {
   "codemirror_mode": {
    "name": "ipython",
    "version": 3
   },
   "file_extension": ".py",
   "mimetype": "text/x-python",
   "name": "python",
   "nbconvert_exporter": "python",
   "pygments_lexer": "ipython3",
   "version": "3.11.4"
  }
 },
 "nbformat": 4,
 "nbformat_minor": 4
}
